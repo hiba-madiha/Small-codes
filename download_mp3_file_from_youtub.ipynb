{
  "nbformat": 4,
  "nbformat_minor": 0,
  "metadata": {
    "colab": {
      "provenance": [],
      "authorship_tag": "ABX9TyMSPVGeSolrCsYftRCAbS7U",
      "include_colab_link": true
    },
    "kernelspec": {
      "name": "python3",
      "display_name": "Python 3"
    },
    "language_info": {
      "name": "python"
    }
  },
  "cells": [
    {
      "cell_type": "markdown",
      "metadata": {
        "id": "view-in-github",
        "colab_type": "text"
      },
      "source": [
        "<a href=\"https://colab.research.google.com/github/hiba-madiha/Small-codes/blob/main/download_mp3_file_from_youtub.ipynb\" target=\"_parent\"><img src=\"https://colab.research.google.com/assets/colab-badge.svg\" alt=\"Open In Colab\"/></a>"
      ]
    },
    {
      "cell_type": "code",
      "source": [
        "!python3 -m pip install --force-reinstall https://github.com/yt-dlp/yt-dlp/archive/master.tar.gz"
      ],
      "metadata": {
        "colab": {
          "base_uri": "https://localhost:8080/"
        },
        "id": "2qNUVGNuK6Ed",
        "outputId": "0ce42621-2fda-47c2-9c37-7d8c3364a8a5"
      },
      "execution_count": 1,
      "outputs": [
        {
          "output_type": "stream",
          "name": "stdout",
          "text": [
            "Collecting https://github.com/yt-dlp/yt-dlp/archive/master.tar.gz\n",
            "  Downloading https://github.com/yt-dlp/yt-dlp/archive/master.tar.gz\n",
            "\u001b[2K     \u001b[32m-\u001b[0m \u001b[32m2.7 MB\u001b[0m \u001b[31m5.3 MB/s\u001b[0m \u001b[33m0:00:00\u001b[0m\n",
            "\u001b[?25h  Installing build dependencies ... \u001b[?25l\u001b[?25hdone\n",
            "  Getting requirements to build wheel ... \u001b[?25l\u001b[?25hdone\n",
            "  Preparing metadata (pyproject.toml) ... \u001b[?25l\u001b[?25hdone\n",
            "Collecting brotli (from yt-dlp==2024.8.6)\n",
            "  Downloading Brotli-1.1.0-cp310-cp310-manylinux_2_5_x86_64.manylinux1_x86_64.manylinux_2_12_x86_64.manylinux2010_x86_64.whl.metadata (5.5 kB)\n",
            "Collecting certifi (from yt-dlp==2024.8.6)\n",
            "  Using cached certifi-2024.8.30-py3-none-any.whl.metadata (2.2 kB)\n",
            "Collecting mutagen (from yt-dlp==2024.8.6)\n",
            "  Downloading mutagen-1.47.0-py3-none-any.whl.metadata (1.7 kB)\n",
            "Collecting pycryptodomex (from yt-dlp==2024.8.6)\n",
            "  Downloading pycryptodomex-3.20.0-cp35-abi3-manylinux_2_17_x86_64.manylinux2014_x86_64.whl.metadata (3.4 kB)\n",
            "Collecting requests<3,>=2.32.2 (from yt-dlp==2024.8.6)\n",
            "  Using cached requests-2.32.3-py3-none-any.whl.metadata (4.6 kB)\n",
            "Collecting urllib3<3,>=1.26.17 (from yt-dlp==2024.8.6)\n",
            "  Downloading urllib3-2.2.2-py3-none-any.whl.metadata (6.4 kB)\n",
            "Collecting websockets>=13.0 (from yt-dlp==2024.8.6)\n",
            "  Downloading websockets-13.0.1-cp310-cp310-manylinux_2_5_x86_64.manylinux1_x86_64.manylinux_2_17_x86_64.manylinux2014_x86_64.whl.metadata (6.7 kB)\n",
            "Collecting charset-normalizer<4,>=2 (from requests<3,>=2.32.2->yt-dlp==2024.8.6)\n",
            "  Using cached charset_normalizer-3.3.2-cp310-cp310-manylinux_2_17_x86_64.manylinux2014_x86_64.whl.metadata (33 kB)\n",
            "Collecting idna<4,>=2.5 (from requests<3,>=2.32.2->yt-dlp==2024.8.6)\n",
            "  Using cached idna-3.8-py3-none-any.whl.metadata (9.9 kB)\n",
            "Using cached requests-2.32.3-py3-none-any.whl (64 kB)\n",
            "Using cached certifi-2024.8.30-py3-none-any.whl (167 kB)\n",
            "Downloading urllib3-2.2.2-py3-none-any.whl (121 kB)\n",
            "\u001b[2K   \u001b[90m━━━━━━━━━━━━━━━━━━━━━━━━━━━━━━━━━━━━━━━━\u001b[0m \u001b[32m121.4/121.4 kB\u001b[0m \u001b[31m4.5 MB/s\u001b[0m eta \u001b[36m0:00:00\u001b[0m\n",
            "\u001b[?25hDownloading websockets-13.0.1-cp310-cp310-manylinux_2_5_x86_64.manylinux1_x86_64.manylinux_2_17_x86_64.manylinux2014_x86_64.whl (157 kB)\n",
            "\u001b[2K   \u001b[90m━━━━━━━━━━━━━━━━━━━━━━━━━━━━━━━━━━━━━━━━\u001b[0m \u001b[32m157.3/157.3 kB\u001b[0m \u001b[31m9.0 MB/s\u001b[0m eta \u001b[36m0:00:00\u001b[0m\n",
            "\u001b[?25hDownloading Brotli-1.1.0-cp310-cp310-manylinux_2_5_x86_64.manylinux1_x86_64.manylinux_2_12_x86_64.manylinux2010_x86_64.whl (3.0 MB)\n",
            "\u001b[2K   \u001b[90m━━━━━━━━━━━━━━━━━━━━━━━━━━━━━━━━━━━━━━━━\u001b[0m \u001b[32m3.0/3.0 MB\u001b[0m \u001b[31m45.2 MB/s\u001b[0m eta \u001b[36m0:00:00\u001b[0m\n",
            "\u001b[?25hDownloading mutagen-1.47.0-py3-none-any.whl (194 kB)\n",
            "\u001b[2K   \u001b[90m━━━━━━━━━━━━━━━━━━━━━━━━━━━━━━━━━━━━━━━━\u001b[0m \u001b[32m194.4/194.4 kB\u001b[0m \u001b[31m10.7 MB/s\u001b[0m eta \u001b[36m0:00:00\u001b[0m\n",
            "\u001b[?25hDownloading pycryptodomex-3.20.0-cp35-abi3-manylinux_2_17_x86_64.manylinux2014_x86_64.whl (2.1 MB)\n",
            "\u001b[2K   \u001b[90m━━━━━━━━━━━━━━━━━━━━━━━━━━━━━━━━━━━━━━━━\u001b[0m \u001b[32m2.1/2.1 MB\u001b[0m \u001b[31m28.1 MB/s\u001b[0m eta \u001b[36m0:00:00\u001b[0m\n",
            "\u001b[?25hUsing cached charset_normalizer-3.3.2-cp310-cp310-manylinux_2_17_x86_64.manylinux2014_x86_64.whl (142 kB)\n",
            "Using cached idna-3.8-py3-none-any.whl (66 kB)\n",
            "Building wheels for collected packages: yt-dlp\n",
            "  Building wheel for yt-dlp (pyproject.toml) ... \u001b[?25l\u001b[?25hdone\n",
            "  Created wheel for yt-dlp: filename=yt_dlp-2024.8.6-py3-none-any.whl size=2883048 sha256=b5bcd2087f011d0212af8d9c7068919db410fa911f8860868db7f1e9fbff3016\n",
            "  Stored in directory: /tmp/pip-ephem-wheel-cache-xhuhj_es/wheels/4c/91/d1/c5369304e2f7afb660bb6eee093af5a7d3c0ea05a3c1e8c797\n",
            "Successfully built yt-dlp\n",
            "Installing collected packages: brotli, websockets, urllib3, pycryptodomex, mutagen, idna, charset-normalizer, certifi, requests, yt-dlp\n",
            "  Attempting uninstall: urllib3\n",
            "    Found existing installation: urllib3 2.0.7\n",
            "    Uninstalling urllib3-2.0.7:\n",
            "      Successfully uninstalled urllib3-2.0.7\n",
            "  Attempting uninstall: idna\n",
            "    Found existing installation: idna 3.8\n",
            "    Uninstalling idna-3.8:\n",
            "      Successfully uninstalled idna-3.8\n",
            "  Attempting uninstall: charset-normalizer\n",
            "    Found existing installation: charset-normalizer 3.3.2\n",
            "    Uninstalling charset-normalizer-3.3.2:\n",
            "      Successfully uninstalled charset-normalizer-3.3.2\n",
            "  Attempting uninstall: certifi\n",
            "    Found existing installation: certifi 2024.8.30\n",
            "    Uninstalling certifi-2024.8.30:\n",
            "      Successfully uninstalled certifi-2024.8.30\n",
            "  Attempting uninstall: requests\n",
            "    Found existing installation: requests 2.32.3\n",
            "    Uninstalling requests-2.32.3:\n",
            "      Successfully uninstalled requests-2.32.3\n",
            "Successfully installed brotli-1.1.0 certifi-2024.8.30 charset-normalizer-3.3.2 idna-3.8 mutagen-1.47.0 pycryptodomex-3.20.0 requests-2.32.3 urllib3-2.2.2 websockets-13.0.1 yt-dlp-2024.8.6\n"
          ]
        }
      ]
    },
    {
      "cell_type": "code",
      "source": [
        "from __future__ import unicode_literals\n",
        "import yt_dlp as youtube_dl"
      ],
      "metadata": {
        "id": "gu6DRLdLWG7j"
      },
      "execution_count": 7,
      "outputs": []
    },
    {
      "cell_type": "code",
      "source": [
        "def download_audio(link):\n",
        "  with youtube_dl.YoutubeDL({'extract_audio': True, 'format': 'bestaudio', 'outtmpl': '%(title)s.mp3'}) as video:\n",
        "    info_dict = video.extract_info(link, download = True)\n",
        "    video_title = info_dict['title']\n",
        "    print(video_title)\n",
        "    video.download(link)\n",
        "    print(\"Successfully Downloaded - see local folder on Google Colab\")\n",
        "\n"
      ],
      "metadata": {
        "id": "yH_DPv5lQeCo"
      },
      "execution_count": 8,
      "outputs": []
    },
    {
      "cell_type": "code",
      "source": [
        "download_audio(\"https://youtu.be/FH1IkSLGZ48?si=MT7xL6GQ9lfVnBEx\")"
      ],
      "metadata": {
        "colab": {
          "base_uri": "https://localhost:8080/"
        },
        "id": "Fa5bj-_CVVw2",
        "outputId": "0a92d0a1-039c-45fb-83b5-1be387f563b4"
      },
      "execution_count": 9,
      "outputs": [
        {
          "output_type": "stream",
          "name": "stdout",
          "text": [
            "[youtube] Extracting URL: https://youtu.be/FH1IkSLGZ48?si=MT7xL6GQ9lfVnBEx\n",
            "[youtube] FH1IkSLGZ48: Downloading webpage\n",
            "[youtube] FH1IkSLGZ48: Downloading ios player API JSON\n",
            "[youtube] FH1IkSLGZ48: Downloading web creator player API JSON\n",
            "[youtube] FH1IkSLGZ48: Downloading player 5f8f5b0f\n",
            "[youtube] FH1IkSLGZ48: Downloading m3u8 information\n",
            "[info] FH1IkSLGZ48: Downloading 1 format(s): 251\n",
            "[download] Destination: Ek Pyar Ka Nagma Hai ｜ Lyrical Video ｜ Jagjit Singh Ghazals ｜ Sad Ghazals ｜ Old Ghazals.mp3\n",
            "[download] 100% of    5.08MiB in 00:00:00 at 14.87MiB/s  \n",
            "Ek Pyar Ka Nagma Hai | Lyrical Video | Jagjit Singh Ghazals | Sad Ghazals | Old Ghazals\n",
            "[youtube] Extracting URL: https://youtu.be/FH1IkSLGZ48?si=MT7xL6GQ9lfVnBEx\n",
            "[youtube] FH1IkSLGZ48: Downloading webpage\n",
            "[youtube] FH1IkSLGZ48: Downloading ios player API JSON\n",
            "[youtube] FH1IkSLGZ48: Downloading web creator player API JSON\n",
            "[youtube] FH1IkSLGZ48: Downloading m3u8 information\n",
            "[info] FH1IkSLGZ48: Downloading 1 format(s): 251\n",
            "[download] Ek Pyar Ka Nagma Hai ｜ Lyrical Video ｜ Jagjit Singh Ghazals ｜ Sad Ghazals ｜ Old Ghazals.mp3 has already been downloaded\n",
            "[download] 100% of    5.08MiB\n",
            "Successfully Downloaded - see local folder on Google Colab\n"
          ]
        }
      ]
    },
    {
      "cell_type": "code",
      "source": [],
      "metadata": {
        "id": "Pmh9mwjpZCLK"
      },
      "execution_count": null,
      "outputs": []
    },
    {
      "cell_type": "code",
      "source": [],
      "metadata": {
        "id": "iwtyDC_ZWSi4"
      },
      "execution_count": null,
      "outputs": []
    }
  ]
}